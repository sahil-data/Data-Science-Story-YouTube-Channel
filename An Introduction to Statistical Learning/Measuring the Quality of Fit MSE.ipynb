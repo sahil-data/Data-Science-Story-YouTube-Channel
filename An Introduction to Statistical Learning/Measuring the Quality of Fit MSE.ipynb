{
 "cells": [
  {
   "cell_type": "markdown",
   "metadata": {},
   "source": [
    "**You all-round manual to become an expert in MACHINE LEARNING in your DATA SCIENCE STORY**\n",
    "<img src=\"v6p1.png\" style=\"height:100px\">"
   ]
  },
  {
   "cell_type": "markdown",
   "metadata": {},
   "source": [
    "# Todays' Agenda-- Measuring the Quality of Fit\n",
    "- What is mean square error(MSE)?\n",
    "- Train MSE and Test MSE\n",
    "- Which is important? \n",
    "- How to measure MSE in python?"
   ]
  },
  {
   "cell_type": "raw",
   "metadata": {},
   "source": []
  },
  {
   "cell_type": "markdown",
   "metadata": {},
   "source": [
    "##  What is MSE?\n",
    "- the average squared difference between the estimated values and true value"
   ]
  },
  {
   "cell_type": "markdown",
   "metadata": {},
   "source": [
    "<img src=\"2.png\" style=\"height:80px\">"
   ]
  },
  {
   "cell_type": "markdown",
   "metadata": {},
   "source": [
    "## Train MSE and Test MSE\n",
    "- Which is important? "
   ]
  },
  {
   "cell_type": "markdown",
   "metadata": {},
   "source": [
    "<img src=\"test train MSE.png\" style=\"height:400px\">"
   ]
  },
  {
   "cell_type": "markdown",
   "metadata": {},
   "source": [
    "- as the flexibility of the statistical learning method increases, we observe a monotone decrease in the training\n",
    "  and a U-shape in the test MSE.\n",
    "- When a given method yields a small training MSE but a large test MSE, we are said to be overfitting the data.\n",
    "- In practice, one can usually compute the training MSE with relative ease, but estimating test MSE is considerably more difficult because usually no test data are available.\n",
    "- Throughout this book, we discuss a variety of approaches that can be used in practice to estimate this minimum point. One important method is cross-validation (Chapter 5), which is a method for estimating test MSE using the training data."
   ]
  },
  {
   "cell_type": "code",
   "execution_count": null,
   "metadata": {},
   "outputs": [],
   "source": []
  },
  {
   "cell_type": "markdown",
   "metadata": {},
   "source": [
    "## How to measure MSE in python?"
   ]
  },
  {
   "cell_type": "markdown",
   "metadata": {},
   "source": [
    "<img src=\"11.png\" style=\"height:400px\">"
   ]
  },
  {
   "cell_type": "markdown",
   "metadata": {},
   "source": [
    "<img src=\"3.png\" style=\"height:400px\">"
   ]
  },
  {
   "cell_type": "code",
   "execution_count": 1,
   "metadata": {},
   "outputs": [
    {
     "data": {
      "text/plain": [
       "0.21606"
      ]
     },
     "execution_count": 1,
     "metadata": {},
     "output_type": "execute_result"
    }
   ],
   "source": [
    "import numpy as np \n",
    "  \n",
    "# Given values \n",
    "Y_true = [1,1,2,2,4]  # Y_true = Y (original values) \n",
    "  \n",
    "# Calculated values \n",
    "Y_pred = [0.6,1.29,1.99,2.69,3.4]  # Y_pred = Y' \n",
    "  \n",
    "# Mean Squared Error \n",
    "MSE = np.square(np.subtract(Y_true,Y_pred)).mean() \n",
    "MSE"
   ]
  },
  {
   "cell_type": "code",
   "execution_count": 2,
   "metadata": {},
   "outputs": [
    {
     "data": {
      "text/plain": [
       "0.21606"
      ]
     },
     "execution_count": 2,
     "metadata": {},
     "output_type": "execute_result"
    }
   ],
   "source": [
    "from sklearn.metrics import mean_squared_error \n",
    "\n",
    "# Given values \n",
    "Y_true = [1,1,2,2,4] # Y_true = Y (original values) \n",
    "\n",
    "# calculated values \n",
    "Y_pred = [0.6,1.29,1.99,2.69,3.4] # Y_pred = Y' \n",
    "\n",
    "# Calculation of Mean Squared Error (MSE) \n",
    "mean_squared_error(Y_true,Y_pred) \n"
   ]
  },
  {
   "cell_type": "code",
   "execution_count": null,
   "metadata": {},
   "outputs": [],
   "source": []
  },
  {
   "cell_type": "code",
   "execution_count": null,
   "metadata": {},
   "outputs": [],
   "source": []
  }
 ],
 "metadata": {
  "kernelspec": {
   "display_name": "Python 3",
   "language": "python",
   "name": "python3"
  },
  "language_info": {
   "codemirror_mode": {
    "name": "ipython",
    "version": 3
   },
   "file_extension": ".py",
   "mimetype": "text/x-python",
   "name": "python",
   "nbconvert_exporter": "python",
   "pygments_lexer": "ipython3",
   "version": "3.7.5"
  }
 },
 "nbformat": 4,
 "nbformat_minor": 2
}
